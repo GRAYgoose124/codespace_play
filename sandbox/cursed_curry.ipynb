{
 "cells": [
  {
   "cell_type": "code",
   "execution_count": 1,
   "metadata": {},
   "outputs": [],
   "source": [
    "import functools as ft\n",
    "import itertools as it\n",
    "\n",
    "\n",
    "def I(x):\n",
    "    return x\n",
    "\n",
    "\n",
    "def K(x):\n",
    "    return lambda y: x\n",
    "\n",
    "\n",
    "def S(x):\n",
    "    return lambda y: lambda z: x(z)(y(z))\n",
    "\n",
    "\n",
    "def _I(x):\n",
    "    return S(K)(K)(x)\n",
    "\n",
    "\n",
    "assert I(2) == _I(2) == 2\n",
    "\n"
   ]
  },
  {
   "cell_type": "code",
   "execution_count": 3,
   "metadata": {},
   "outputs": [
    {
     "data": {
      "text/plain": [
       "True"
      ]
     },
     "execution_count": 3,
     "metadata": {},
     "output_type": "execute_result"
    }
   ],
   "source": [
    "import inspect \n",
    "\n",
    "def cursed_curry(f):     # Does not handle *args or **kwargs.\n",
    "    args = inspect.getfullargspec(f).args\n",
    "\n",
    "    lambda_str = f\"f({', '.join(args)})\"\n",
    "    [lambda_str := f\"lambda {arg}: {lambda_str}\" for arg in args]\n",
    "\n",
    "    return eval(lambda_str, {\"f\": f})\n",
    "\n",
    "\n",
    "def some_func(a, b, c):\n",
    "    return a + b + c\n",
    "\n",
    "@cursed_curry\n",
    "def another_func(a, b, c):\n",
    "    return a + b + c\n",
    "\n",
    "\n",
    "cursed_curry(some_func)(1)(2)(3) == some_func(1, 2, 3) == another_func(1)(2)(3) == 6\n"
   ]
  },
  {
   "cell_type": "code",
   "execution_count": 4,
   "metadata": {},
   "outputs": [
    {
     "data": {
      "text/plain": [
       "True"
      ]
     },
     "execution_count": 4,
     "metadata": {},
     "output_type": "execute_result"
    }
   ],
   "source": [
    "def less_cursed_curry(f):\n",
    "    args = inspect.getfullargspec(f).args\n",
    "\n",
    "    def curry(*args_so_far):\n",
    "        if len(args_so_far) == len(args):\n",
    "            return f(*args_so_far)\n",
    "        else:\n",
    "            return lambda x: curry(*args_so_far, x)\n",
    "\n",
    "    return curry\n",
    "\n",
    "@less_cursed_curry\n",
    "def yet_another_func(a, b, c):\n",
    "    return a + b + c\n",
    "\n",
    "less_cursed_curry(some_func)(1)(2)(3) == some_func(1, 2, 3) == yet_another_func(1)(2)(3) == 6"
   ]
  },
  {
   "cell_type": "code",
   "execution_count": null,
   "metadata": {},
   "outputs": [],
   "source": []
  }
 ],
 "metadata": {
  "kernelspec": {
   "display_name": "base",
   "language": "python",
   "name": "python3"
  },
  "language_info": {
   "codemirror_mode": {
    "name": "ipython",
    "version": 3
   },
   "file_extension": ".py",
   "mimetype": "text/x-python",
   "name": "python",
   "nbconvert_exporter": "python",
   "pygments_lexer": "ipython3",
   "version": "3.11.3"
  },
  "orig_nbformat": 4
 },
 "nbformat": 4,
 "nbformat_minor": 2
}
