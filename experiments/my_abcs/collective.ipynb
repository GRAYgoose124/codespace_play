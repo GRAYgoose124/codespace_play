{
 "cells": [
  {
   "cell_type": "code",
   "execution_count": null,
   "metadata": {},
   "outputs": [],
   "source": [
    "from collections.abc import Iterable, Sequence, Mapping, Set, MutableMapping, MutableSequence, MutableSet, Callable, Iterator, Generator, Awaitable, Coroutine, AsyncIterator, AsyncGenerator\n"
   ]
  }
 ],
 "metadata": {
  "language_info": {
   "name": "python"
  },
  "orig_nbformat": 4
 },
 "nbformat": 4,
 "nbformat_minor": 2
}
