{
 "cells": [
  {
   "cell_type": "code",
   "execution_count": 4,
   "metadata": {},
   "outputs": [
    {
     "ename": "ImportError",
     "evalue": "attempted relative import with no known parent package",
     "output_type": "error",
     "traceback": [
      "\u001b[0;31m---------------------------------------------------------------------------\u001b[0m",
      "\u001b[0;31mImportError\u001b[0m                               Traceback (most recent call last)",
      "\u001b[1;32m/home/grayson/code/go/look/python/hash_fs/main.ipynb Cell 1\u001b[0m line \u001b[0;36m1\n\u001b[0;32m----> <a href='vscode-notebook-cell:/home/grayson/code/go/look/python/hash_fs/main.ipynb#W0sZmlsZQ%3D%3D?line=0'>1</a>\u001b[0m \u001b[39mfrom\u001b[39;00m \u001b[39m.\u001b[39;00m\u001b[39mhash_fs\u001b[39;00m \u001b[39mimport\u001b[39;00m HashTree, Node\n\u001b[1;32m      <a href='vscode-notebook-cell:/home/grayson/code/go/look/python/hash_fs/main.ipynb#W0sZmlsZQ%3D%3D?line=4'>5</a>\u001b[0m R \u001b[39m=\u001b[39m Node()\n\u001b[1;32m      <a href='vscode-notebook-cell:/home/grayson/code/go/look/python/hash_fs/main.ipynb#W0sZmlsZQ%3D%3D?line=5'>6</a>\u001b[0m T \u001b[39m=\u001b[39m HashTree(R)\n",
      "\u001b[0;31mImportError\u001b[0m: attempted relative import with no known parent package"
     ]
    }
   ],
   "source": [
    "\n",
    "from .hash_fs import HashTree, Node\n",
    "\n",
    "\n",
    "\n",
    "R = Node()\n",
    "T = HashTree(R)\n",
    "\n",
    "A = Node(b\"Hello\")\n",
    "B = Node(b\"World\")\n",
    "C = Node(b\"!\")\n",
    "\n",
    "D = Node(b\"Ox\")\n",
    "E = Node(b\"and\")\n",
    "F = Node(b\"Fox\")\n",
    "G = Node(b\"!\")\n",
    "H = Node(b\"!!\")\n",
    "\n",
    "T.append_to(R, A)\n",
    "T.append_to(A, B)\n",
    "T.append_to(B, C)\n",
    "\n",
    "T.append_to(R, D)\n",
    "T.append_to(D, E)\n",
    "T.append_to(D, F)\n",
    "T.append_to(F, G)\n",
    "T.append_to(F, H)\n",
    "\n",
    "print(T.root)"
   ]
  }
 ],
 "metadata": {
  "kernelspec": {
   "display_name": "base",
   "language": "python",
   "name": "python3"
  },
  "language_info": {
   "codemirror_mode": {
    "name": "ipython",
    "version": 3
   },
   "file_extension": ".py",
   "mimetype": "text/x-python",
   "name": "python",
   "nbconvert_exporter": "python",
   "pygments_lexer": "ipython3",
   "version": "3.11.3"
  },
  "orig_nbformat": 4
 },
 "nbformat": 4,
 "nbformat_minor": 2
}
